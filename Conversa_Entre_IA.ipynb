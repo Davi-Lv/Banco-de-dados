{
  "nbformat": 4,
  "nbformat_minor": 0,
  "metadata": {
    "colab": {
      "provenance": [],
      "authorship_tag": "ABX9TyPYjK+qxvVLjBPJAAsh89KW",
      "include_colab_link": true
    },
    "kernelspec": {
      "name": "python3",
      "display_name": "Python 3"
    },
    "language_info": {
      "name": "python"
    }
  },
  "cells": [
    {
      "cell_type": "markdown",
      "metadata": {
        "id": "view-in-github",
        "colab_type": "text"
      },
      "source": [
        "<a href=\"https://colab.research.google.com/github/Davi-Lv/Banco-de-dados/blob/main/Conversa_Entre_IA.ipynb\" target=\"_parent\"><img src=\"https://colab.research.google.com/assets/colab-badge.svg\" alt=\"Open In Colab\"/></a>"
      ]
    },
    {
      "cell_type": "code",
      "source": [
        "#!pip install openai"
      ],
      "metadata": {
        "id": "h8aZU_9VOM9d"
      },
      "execution_count": null,
      "outputs": []
    },
    {
      "cell_type": "code",
      "source": [
        "# Importando a biblioteca da OpenAI\n",
        "import openai\n",
        "\n",
        "# Key API do OpenAI\n",
        "openai.api_key = \"Key API\"\n",
        "\n",
        "# Escolha o modelo de conversa da openAi\n",
        "model_engine = 'text-davinci-003'\n",
        "\n",
        "# Primeiras mensagens de interações e as variáveis que armazenarão as mensagens das IAs\n",
        "message1 = \"Vamos conversar? Fale um assunto\"\n",
        "message2 = ''\n",
        "print('IA 1: ' + message1)\n",
        "print('')\n",
        "\n",
        "# Loop de conversação entre as duas IAs\n",
        "i = 0\n",
        "while i < 4:\n",
        "    try:\n",
        "        # Gera uma resposta da IA 2 com base na última mensagem da IA 1\n",
        "        response2 = openai.Completion.create(engine=model_engine,  \n",
        "                                             prompt=\"Interaja com base no texto a seguir e faça uma pergunta no final: \" + message1)\n",
        "\n",
        "        # Exibir a resposta da IA 2\n",
        "        print(\"IA 2: \" + response2.choices[0].text.strip())\n",
        "\n",
        "        # Atualiza a mensagem da IA 2 com base na resposta gerada\n",
        "        message2 = response2.choices[0].text.strip()\n",
        "\n",
        "        # Gera uma resposta da IA 1 com base na última mensagem da IA 2\n",
        "        response1 = openai.Completion.create(engine=model_engine,  \n",
        "                                             prompt=\"Interaja com base no texto a seguir e faça uma pergunta no final: \" + message2)\n",
        "\n",
        "        # Exibir a resposta da IA 1\n",
        "        print(\"IA 1: \" + response1.choices[0].text.strip())\n",
        "\n",
        "        # Atualiza a mensagem da IA 1 com base na resposta gerada\n",
        "        message1 = response1.choices[0].text.strip()\n",
        "\n",
        "        # Incrementa o contador de iterações\n",
        "        i += 1\n",
        "\n",
        "    except Exception as e:\n",
        "        print(\"Erro: \", str(e))\n"
      ],
      "metadata": {
        "id": "cx3GP9gngUFL"
      },
      "execution_count": null,
      "outputs": []
    }
  ]
}